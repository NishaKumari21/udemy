{
 "cells": [
  {
   "cell_type": "code",
   "execution_count": 16,
   "id": "7587ef55",
   "metadata": {},
   "outputs": [],
   "source": [
    "def calculate_mean(data):\n",
    "    return sum(data)/len(data)"
   ]
  },
  {
   "cell_type": "markdown",
   "id": "04e019b1",
   "metadata": {},
   "source": [
    "## Calculate mean by using your own function"
   ]
  },
  {
   "cell_type": "code",
   "execution_count": 17,
   "id": "b7b076ac",
   "metadata": {},
   "outputs": [
    {
     "name": "stdout",
     "output_type": "stream",
     "text": [
      "sum: 14\n",
      "length of data: 4\n"
     ]
    }
   ],
   "source": [
    "data=[2,3,4,5]\n",
    "print(\"sum:\",sum(data))\n",
    "print(\"length of data:\",len(data))"
   ]
  },
  {
   "cell_type": "code",
   "execution_count": 18,
   "id": "7147f2c0",
   "metadata": {},
   "outputs": [
    {
     "data": {
      "text/plain": [
       "3.5"
      ]
     },
     "execution_count": 18,
     "metadata": {},
     "output_type": "execute_result"
    }
   ],
   "source": [
    "calculate_mean(data)"
   ]
  },
  {
   "cell_type": "markdown",
   "id": "19f09a1a",
   "metadata": {},
   "source": [
    "## By using python library"
   ]
  },
  {
   "cell_type": "code",
   "execution_count": 19,
   "id": "8f7bb60c",
   "metadata": {},
   "outputs": [],
   "source": [
    "import numpy as np \n",
    "import pandas as pd\n"
   ]
  },
  {
   "cell_type": "code",
   "execution_count": 23,
   "id": "f26e622a",
   "metadata": {},
   "outputs": [
    {
     "data": {
      "text/plain": [
       "3.5"
      ]
     },
     "execution_count": 23,
     "metadata": {},
     "output_type": "execute_result"
    }
   ],
   "source": [
    "np.mean(data)"
   ]
  },
  {
   "cell_type": "markdown",
   "id": "7e2ae91a",
   "metadata": {},
   "source": [
    "## Calculating median\n"
   ]
  },
  {
   "cell_type": "code",
   "execution_count": 34,
   "id": "2e21107f",
   "metadata": {},
   "outputs": [],
   "source": [
    "def cal_median(data):\n",
    "    data.sort()\n",
    "\n",
    "    n=len(data)\n",
    "    mid=n//2\n",
    "    if n%2==0:\n",
    "        median=data[mid-1]+data[mid]/2\n",
    "    else:\n",
    "        median=data[mid]\n",
    "    return median"
   ]
  },
  {
   "cell_type": "code",
   "execution_count": 47,
   "id": "8384e176",
   "metadata": {},
   "outputs": [
    {
     "data": {
      "text/plain": [
       "5.0"
      ]
     },
     "execution_count": 47,
     "metadata": {},
     "output_type": "execute_result"
    }
   ],
   "source": [
    "cal_median(data)\n"
   ]
  },
  {
   "cell_type": "code",
   "execution_count": 46,
   "id": "b022a562",
   "metadata": {},
   "outputs": [
    {
     "data": {
      "text/plain": [
       "3.5"
      ]
     },
     "execution_count": 46,
     "metadata": {},
     "output_type": "execute_result"
    }
   ],
   "source": [
    "\n",
    "median = np.median(data)\n",
    "median"
   ]
  },
  {
   "cell_type": "code",
   "execution_count": null,
   "id": "0ab50536",
   "metadata": {},
   "outputs": [],
   "source": [
    "from statistics import mode\n",
    "dataset=[3,3,3,4,12]\n",
    "# mode:highest frequency"
   ]
  },
  {
   "cell_type": "code",
   "execution_count": 44,
   "id": "a2c051b3",
   "metadata": {},
   "outputs": [
    {
     "name": "stdout",
     "output_type": "stream",
     "text": [
      "3\n"
     ]
    }
   ],
   "source": [
    "print(mode(dataset))"
   ]
  },
  {
   "cell_type": "code",
   "execution_count": null,
   "id": "d64f9919",
   "metadata": {},
   "outputs": [],
   "source": []
  }
 ],
 "metadata": {
  "kernelspec": {
   "display_name": "Python 3",
   "language": "python",
   "name": "python3"
  },
  "language_info": {
   "codemirror_mode": {
    "name": "ipython",
    "version": 3
   },
   "file_extension": ".py",
   "mimetype": "text/x-python",
   "name": "python",
   "nbconvert_exporter": "python",
   "pygments_lexer": "ipython3",
   "version": "3.12.2"
  }
 },
 "nbformat": 4,
 "nbformat_minor": 5
}

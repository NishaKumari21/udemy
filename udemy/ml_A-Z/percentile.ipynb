{
 "cells": [
  {
   "cell_type": "code",
   "execution_count": 3,
   "id": "91ac7580",
   "metadata": {},
   "outputs": [],
   "source": [
    "def cal_percentile(data,percentile):\n",
    "    return np.percentile(data,percentile)"
   ]
  },
  {
   "cell_type": "code",
   "execution_count": 2,
   "id": "bde52eba",
   "metadata": {},
   "outputs": [],
   "source": [
    "import numpy as np"
   ]
  },
  {
   "cell_type": "code",
   "execution_count": 12,
   "id": "01d7ca46",
   "metadata": {},
   "outputs": [
    {
     "data": {
      "text/plain": [
       "25.0"
      ]
     },
     "execution_count": 12,
     "metadata": {},
     "output_type": "execute_result"
    }
   ],
   "source": [
    "data = [10,15, 20,25,30]\n",
    "percentile=75\n",
    "cal_percentile(data,percentile)"
   ]
  },
  {
   "cell_type": "code",
   "execution_count": 10,
   "id": "57f89730",
   "metadata": {},
   "outputs": [
    {
     "data": {
      "text/plain": [
       "15.0"
      ]
     },
     "execution_count": 10,
     "metadata": {},
     "output_type": "execute_result"
    }
   ],
   "source": [
    "data = [10,15, 20,25,30]\n",
    "percentile=25\n",
    "cal_percentile(data,percentile)"
   ]
  },
  {
   "cell_type": "code",
   "execution_count": 11,
   "id": "0d4f44ff",
   "metadata": {},
   "outputs": [
    {
     "data": {
      "text/plain": [
       "28.0"
      ]
     },
     "execution_count": 11,
     "metadata": {},
     "output_type": "execute_result"
    }
   ],
   "source": [
    "data =[10,15, 20,25,30]\n",
    "percentile=90\n",
    "cal_percentile(data,percentile)"
   ]
  },
  {
   "cell_type": "code",
   "execution_count": null,
   "id": "d3d31025",
   "metadata": {},
   "outputs": [],
   "source": []
  }
 ],
 "metadata": {
  "kernelspec": {
   "display_name": "Python 3",
   "language": "python",
   "name": "python3"
  },
  "language_info": {
   "codemirror_mode": {
    "name": "ipython",
    "version": 3
   },
   "file_extension": ".py",
   "mimetype": "text/x-python",
   "name": "python",
   "nbconvert_exporter": "python",
   "pygments_lexer": "ipython3",
   "version": "3.12.2"
  }
 },
 "nbformat": 4,
 "nbformat_minor": 5
}
